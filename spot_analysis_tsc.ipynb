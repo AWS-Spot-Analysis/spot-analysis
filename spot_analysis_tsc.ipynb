{
 "cells": [
  {
   "cell_type": "markdown",
   "metadata": {
    "collapsed": false
   },
   "source": [
    "\n",
    "# Spot resources Analytics\n",
    "\n",
    "Here we perform some initial process and analysis on the dataset.\n",
    "\n",
    "---\n",
    "\n",
    "\n"
   ]
  },
  {
   "cell_type": "markdown",
   "metadata": {},
   "source": [
    "With static dataset, e.g. load the grabbed data."
   ]
  },
  {
   "cell_type": "code",
   "execution_count": 2,
   "metadata": {
    "collapsed": true
   },
   "outputs": [],
   "source": [
    "import pandas as pd\n",
    "import numpy as np\n",
    "import matplotlib.pyplot as plt\n",
    "import seaborn\n",
    "%matplotlib inline"
   ]
  },
  {
   "cell_type": "code",
   "execution_count": 3,
   "metadata": {
    "collapsed": false
   },
   "outputs": [
    {
     "data": {
      "text/html": [
       "<div>\n",
       "<table border=\"1\" class=\"dataframe\">\n",
       "  <thead>\n",
       "    <tr style=\"text-align: right;\">\n",
       "      <th></th>\n",
       "      <th>SpotPrice</th>\n",
       "      <th>InstanceType</th>\n",
       "      <th>AvailabilityZone</th>\n",
       "    </tr>\n",
       "    <tr>\n",
       "      <th>TimeStamp</th>\n",
       "      <th></th>\n",
       "      <th></th>\n",
       "      <th></th>\n",
       "    </tr>\n",
       "  </thead>\n",
       "  <tbody>\n",
       "    <tr>\n",
       "      <th>2014-02-16 00:54:00</th>\n",
       "      <td>0.0100</td>\n",
       "      <td>m1.small</td>\n",
       "      <td>us-west-1a</td>\n",
       "    </tr>\n",
       "    <tr>\n",
       "      <th>2014-02-16 00:55:30</th>\n",
       "      <td>2.7320</td>\n",
       "      <td>c3.8xlarge</td>\n",
       "      <td>us-west-1a</td>\n",
       "    </tr>\n",
       "    <tr>\n",
       "      <th>2014-02-16 00:58:09</th>\n",
       "      <td>0.0679</td>\n",
       "      <td>m3.large</td>\n",
       "      <td>us-west-1b</td>\n",
       "    </tr>\n",
       "    <tr>\n",
       "      <th>2014-02-16 00:59:56</th>\n",
       "      <td>3.0240</td>\n",
       "      <td>c3.8xlarge</td>\n",
       "      <td>ap-southeast-2a</td>\n",
       "    </tr>\n",
       "    <tr>\n",
       "      <th>2014-02-16 01:17:30</th>\n",
       "      <td>0.0224</td>\n",
       "      <td>m3.medium</td>\n",
       "      <td>us-east-1d</td>\n",
       "    </tr>\n",
       "    <tr>\n",
       "      <th>2014-02-16 01:17:37</th>\n",
       "      <td>0.0100</td>\n",
       "      <td>m1.small</td>\n",
       "      <td>us-west-1b</td>\n",
       "    </tr>\n",
       "    <tr>\n",
       "      <th>2014-02-16 01:24:19</th>\n",
       "      <td>0.7561</td>\n",
       "      <td>c3.2xlarge</td>\n",
       "      <td>ap-southeast-2b</td>\n",
       "    </tr>\n",
       "    <tr>\n",
       "      <th>2014-02-16 01:24:19</th>\n",
       "      <td>0.7561</td>\n",
       "      <td>c3.2xlarge</td>\n",
       "      <td>ap-southeast-2a</td>\n",
       "    </tr>\n",
       "    <tr>\n",
       "      <th>2014-02-16 01:24:25</th>\n",
       "      <td>0.0926</td>\n",
       "      <td>m3.xlarge</td>\n",
       "      <td>ap-southeast-2b</td>\n",
       "    </tr>\n",
       "    <tr>\n",
       "      <th>2014-02-16 01:24:26</th>\n",
       "      <td>3.0241</td>\n",
       "      <td>c3.8xlarge</td>\n",
       "      <td>ap-southeast-2b</td>\n",
       "    </tr>\n",
       "    <tr>\n",
       "      <th>2014-02-16 01:24:26</th>\n",
       "      <td>0.1891</td>\n",
       "      <td>c3.large</td>\n",
       "      <td>ap-southeast-2b</td>\n",
       "    </tr>\n",
       "    <tr>\n",
       "      <th>2014-02-16 01:24:26</th>\n",
       "      <td>0.1891</td>\n",
       "      <td>c3.large</td>\n",
       "      <td>ap-southeast-2a</td>\n",
       "    </tr>\n",
       "    <tr>\n",
       "      <th>2014-02-16 01:24:27</th>\n",
       "      <td>0.3781</td>\n",
       "      <td>c3.xlarge</td>\n",
       "      <td>ap-southeast-2a</td>\n",
       "    </tr>\n",
       "    <tr>\n",
       "      <th>2014-02-16 01:24:28</th>\n",
       "      <td>1.5121</td>\n",
       "      <td>c3.4xlarge</td>\n",
       "      <td>ap-southeast-2b</td>\n",
       "    </tr>\n",
       "    <tr>\n",
       "      <th>2014-02-16 01:24:28</th>\n",
       "      <td>1.5121</td>\n",
       "      <td>c3.4xlarge</td>\n",
       "      <td>ap-southeast-2a</td>\n",
       "    </tr>\n",
       "  </tbody>\n",
       "</table>\n",
       "</div>"
      ],
      "text/plain": [
       "                     SpotPrice InstanceType AvailabilityZone\n",
       "TimeStamp                                                   \n",
       "2014-02-16 00:54:00     0.0100     m1.small       us-west-1a\n",
       "2014-02-16 00:55:30     2.7320   c3.8xlarge       us-west-1a\n",
       "2014-02-16 00:58:09     0.0679     m3.large       us-west-1b\n",
       "2014-02-16 00:59:56     3.0240   c3.8xlarge  ap-southeast-2a\n",
       "2014-02-16 01:17:30     0.0224    m3.medium       us-east-1d\n",
       "2014-02-16 01:17:37     0.0100     m1.small       us-west-1b\n",
       "2014-02-16 01:24:19     0.7561   c3.2xlarge  ap-southeast-2b\n",
       "2014-02-16 01:24:19     0.7561   c3.2xlarge  ap-southeast-2a\n",
       "2014-02-16 01:24:25     0.0926    m3.xlarge  ap-southeast-2b\n",
       "2014-02-16 01:24:26     3.0241   c3.8xlarge  ap-southeast-2b\n",
       "2014-02-16 01:24:26     0.1891     c3.large  ap-southeast-2b\n",
       "2014-02-16 01:24:26     0.1891     c3.large  ap-southeast-2a\n",
       "2014-02-16 01:24:27     0.3781    c3.xlarge  ap-southeast-2a\n",
       "2014-02-16 01:24:28     1.5121   c3.4xlarge  ap-southeast-2b\n",
       "2014-02-16 01:24:28     1.5121   c3.4xlarge  ap-southeast-2a"
      ]
     },
     "execution_count": 3,
     "metadata": {},
     "output_type": "execute_result"
    }
   ],
   "source": [
    "# parse the data file and extra the results\n",
    "filename = 'aws-spot-price-history/data-1397804701'\n",
    "\n",
    "df = pd.read_csv(filename, sep=\"\\t\", header = None)\n",
    "df.columns = [\"info\", \"SpotPrice\", \"TimeStamp\", \"InstanceType\", \"OS type\", \"AvailabilityZone\"]\n",
    "df['TimeStamp'] =pd.to_datetime(df.TimeStamp)\n",
    "\n",
    "df.index = df.TimeStamp\n",
    "df = df.drop('info', 1).drop(['OS type'],axis=1)\n",
    "df = df.drop(['TimeStamp'],axis=1).sort_index()\n",
    " \n",
    "\n",
    "df.head(15)\n",
    "#print (df['InstanceType'].unique())\n",
    "#print (df['AvailabilityZone'].unique())\n"
   ]
  },
  {
   "cell_type": "markdown",
   "metadata": {},
   "source": [
    "## Hypothesis #2\n",
    "\n",
    "For each machine type there exists a region that is more favorable to use, as the market volatility is very low and the prices tend to stay cheaper than the other regions.\n",
    "\n",
    "With in proving this hypothesis users will be able to find the best region they should be bidding in, as long as latency is not an issue for them.\n",
    "\n",
    "Data Science tools & Techniques: We can use clustering and classification methods.\n"
   ]
  },
  {
   "cell_type": "code",
   "execution_count": 4,
   "metadata": {
    "collapsed": false
   },
   "outputs": [],
   "source": [
    "def corrGraph(title, df):\n",
    "    corr_df = df.corr()\n",
    "    mask = np.zeros_like(corr_df)\n",
    "    mask[np.triu_indices_from(mask)] = True\n",
    "    seaborn.heatmap(corr_df, cmap='RdYlGn_r', vmax=1.0, vmin=-1.0 , mask = mask, linewidths=2.5)\n",
    "    plt.yticks(rotation=0) \n",
    "    plt.title(title)\n",
    "    plt.xticks(rotation=90) \n",
    "    plt.show()\n"
   ]
  },
  {
   "cell_type": "code",
   "execution_count": 5,
   "metadata": {
    "collapsed": false
   },
   "outputs": [
    {
     "name": "stdout",
     "output_type": "stream",
     "text": [
      "2014-02-16 00:54:00\n",
      "2014-04-18 00:49:03\n",
      "60 days 23:55:03\n"
     ]
    },
    {
     "data": {
      "text/html": [
       "<div>\n",
       "<table border=\"1\" class=\"dataframe\">\n",
       "  <thead>\n",
       "    <tr style=\"text-align: right;\">\n",
       "      <th></th>\n",
       "      <th>SpotPrice</th>\n",
       "      <th>InstanceType</th>\n",
       "      <th>AvailabilityZone</th>\n",
       "    </tr>\n",
       "    <tr>\n",
       "      <th>TimeStamp</th>\n",
       "      <th></th>\n",
       "      <th></th>\n",
       "      <th></th>\n",
       "    </tr>\n",
       "  </thead>\n",
       "  <tbody>\n",
       "    <tr>\n",
       "      <th>2014-02-16 00:54:00</th>\n",
       "      <td>0.0100</td>\n",
       "      <td>m1.small</td>\n",
       "      <td>us-west-1a</td>\n",
       "    </tr>\n",
       "    <tr>\n",
       "      <th>2014-02-16 00:55:30</th>\n",
       "      <td>2.7320</td>\n",
       "      <td>c3.8xlarge</td>\n",
       "      <td>us-west-1a</td>\n",
       "    </tr>\n",
       "    <tr>\n",
       "      <th>2014-02-16 00:58:09</th>\n",
       "      <td>0.0679</td>\n",
       "      <td>m3.large</td>\n",
       "      <td>us-west-1b</td>\n",
       "    </tr>\n",
       "  </tbody>\n",
       "</table>\n",
       "</div>"
      ],
      "text/plain": [
       "                     SpotPrice InstanceType AvailabilityZone\n",
       "TimeStamp                                                   \n",
       "2014-02-16 00:54:00     0.0100     m1.small       us-west-1a\n",
       "2014-02-16 00:55:30     2.7320   c3.8xlarge       us-west-1a\n",
       "2014-02-16 00:58:09     0.0679     m3.large       us-west-1b"
      ]
     },
     "execution_count": 5,
     "metadata": {},
     "output_type": "execute_result"
    }
   ],
   "source": [
    "# Some info about the data\n",
    "print (df.index.min())\n",
    "print (df.index.max())\n",
    "print(df.index.max()- df.index.min()) \n",
    "df = df.truncate(before='2014-02-16', after='2014-04-18')\n",
    "df.head(3)"
   ]
  },
  {
   "cell_type": "code",
   "execution_count": 6,
   "metadata": {
    "collapsed": false
   },
   "outputs": [],
   "source": [
    "def awsResampler(df):\n",
    "    #RESAMPLE Data by the hour \n",
    "    dfSorted = df.groupby(['AvailabilityZone', 'InstanceType'])\n",
    "    dfSorted = dfSorted.resample('H').mean()\n",
    "    dfSorted = dfSorted.fillna(method=\"ffill\")\n",
    "    dfSorted.head(2)\n",
    "    #dfSorted=dfSorted.drop('InstanceType', axis=1).drop('AvailabilityZone', axis=3\n",
    "\n",
    "    # We have to load it into a csv to clear an issue caused by the grouping\n",
    "    # TODO investigate how to do this better for speed increase\n",
    "    dfSorted.to_csv(\"im.csv\")\n",
    "    depa = pd.read_csv(\"im.csv\")\n",
    "    depa = depa.groupby(['AvailabilityZone', 'InstanceType'])\n",
    "    return depa"
   ]
  },
  {
   "cell_type": "code",
   "execution_count": 7,
   "metadata": {
    "collapsed": false
   },
   "outputs": [
    {
     "data": {
      "text/plain": [
       "\"\\ndepa = awsResampler(df)\\n# Initialize dictionary of all combos of dfs we want to graph and corr\\nzonedfs={}\\ntypedfs={}\\nfor item in df['InstanceType'].unique():\\n    typedfs.update({item: pd.DataFrame()})\\nfor item in df['AvailabilityZone'].unique():\\n    zonedfs.update({item: pd.DataFrame()})\\n\\n#Fill zonedfs with dataframes of all machines in that zone pricing\\nfor name, group in depa:\\n    if zonedfs[name[0]].empty:\\n        zonedfs[name[0]] = group\\n        zonedfs[name[0]] = zonedfs[name[0]].drop('InstanceType', axis=1).drop(['AvailabilityZone'],axis=1)\\n        zonedfs[name[0]].rename(columns = {'SpotPrice':name[1]}, inplace = True)\\n    else:\\n        group1 = group.drop('InstanceType', axis=1).drop(['AvailabilityZone'],axis=1)\\n        group1.rename(columns = {'SpotPrice':name[1]}, inplace = True)\\n        zonedfs[name[0]] = zonedfs[name[0]].merge(group1,how='right')\\n\\n#Fill typedfs with dataframes of all machines in that zone pricing\\nfor name, group in depa:\\n    if typedfs[name[1]].empty:\\n        typedfs[name[1]] = group\\n        typedfs[name[1]] = typedfs[name[1]].drop('InstanceType', axis=1).drop(['AvailabilityZone'],axis=1)\\n        typedfs[name[1]].rename(columns = {'SpotPrice':name[0]}, inplace = True)\\n    else:\\n        group1 = group.drop('InstanceType', axis=1).drop(['AvailabilityZone'],axis=1)\\n        group1.rename(columns = {'SpotPrice':name[0]}, inplace = True)\\n        typedfs[name[1]] = typedfs[name[1]].merge(group1,how='right')\\n\""
      ]
     },
     "execution_count": 7,
     "metadata": {},
     "output_type": "execute_result"
    }
   ],
   "source": [
    "\"\"\"\n",
    "depa = awsResampler(df)\n",
    "# Initialize dictionary of all combos of dfs we want to graph and corr\n",
    "zonedfs={}\n",
    "typedfs={}\n",
    "for item in df['InstanceType'].unique():\n",
    "    typedfs.update({item: pd.DataFrame()})\n",
    "for item in df['AvailabilityZone'].unique():\n",
    "    zonedfs.update({item: pd.DataFrame()})\n",
    "\n",
    "#Fill zonedfs with dataframes of all machines in that zone pricing\n",
    "for name, group in depa:\n",
    "    if zonedfs[name[0]].empty:\n",
    "        zonedfs[name[0]] = group\n",
    "        zonedfs[name[0]] = zonedfs[name[0]].drop('InstanceType', axis=1).drop(['AvailabilityZone'],axis=1)\n",
    "        zonedfs[name[0]].rename(columns = {'SpotPrice':name[1]}, inplace = True)\n",
    "    else:\n",
    "        group1 = group.drop('InstanceType', axis=1).drop(['AvailabilityZone'],axis=1)\n",
    "        group1.rename(columns = {'SpotPrice':name[1]}, inplace = True)\n",
    "        zonedfs[name[0]] = zonedfs[name[0]].merge(group1,how='right')\n",
    "\n",
    "#Fill typedfs with dataframes of all machines in that zone pricing\n",
    "for name, group in depa:\n",
    "    if typedfs[name[1]].empty:\n",
    "        typedfs[name[1]] = group\n",
    "        typedfs[name[1]] = typedfs[name[1]].drop('InstanceType', axis=1).drop(['AvailabilityZone'],axis=1)\n",
    "        typedfs[name[1]].rename(columns = {'SpotPrice':name[0]}, inplace = True)\n",
    "    else:\n",
    "        group1 = group.drop('InstanceType', axis=1).drop(['AvailabilityZone'],axis=1)\n",
    "        group1.rename(columns = {'SpotPrice':name[0]}, inplace = True)\n",
    "        typedfs[name[1]] = typedfs[name[1]].merge(group1,how='right')\n",
    "\"\"\""
   ]
  },
  {
   "cell_type": "markdown",
   "metadata": {},
   "source": [
    "# TSC\n"
   ]
  },
  {
   "cell_type": "code",
   "execution_count": 8,
   "metadata": {
    "collapsed": false
   },
   "outputs": [
    {
     "name": "stdout",
     "output_type": "stream",
     "text": [
      "<class 'numpy.ndarray'>\n",
      "<class 'dict'>\n",
      "18911\n"
     ]
    },
    {
     "data": {
      "image/png": "[encoded data removed]",
      "text/plain": [
       "<matplotlib.figure.Figure at 0x7fda3e0d2f60>"
      ]
     },
     "metadata": {},
     "output_type": "display_data"
    }
   ],
   "source": [
    "# generate ts\n",
    "\n",
    "df_us_west_one_a = df[df.AvailabilityZone == \"us-west-1a\"]\n",
    "df_us_west_one_b = df[df.AvailabilityZone == \"us-west-1b\"]\n",
    "\n",
    "df_us_east_one_a = df[df.AvailabilityZone == \"us-east-1a\"]\n",
    "df_us_east_one_b = df[df.AvailabilityZone == \"us-east-1b\"]\n",
    "df_us_east_one_c = df[df.AvailabilityZone == \"us-east-1c\"]\n",
    "df_us_east_one_d = df[df.AvailabilityZone == \"us-east-1d\"]\n",
    "\n",
    "df_ap_southeast_one_a = df[df.AvailabilityZone == \"ap-southeast-1a\"]\n",
    "df_ap_southeast_one_b = df[df.AvailabilityZone == \"ap-southeast-1b\"]\n",
    "\n",
    "df_ap_southeast_two_a = df[df.AvailabilityZone == \"ap-southeast-2a\"]\n",
    "df_ap_southeast_two_b = df[df.AvailabilityZone == \"ap-southeast-2b\"]\n",
    "\n",
    "train = np.genfromtxt('datasets/train.csv', delimiter='\\t')\n",
    "test = np.genfromtxt('datasets/test.csv', delimiter='\\t')\n",
    "\n",
    "print(type(train))\n",
    "\n",
    "\n",
    "def get_ts_data(inst_type):\n",
    "    type_dict = {}\n",
    "    i=0\n",
    "    for dff in df_us_west_one_a,df_us_west_one_b,df_ap_southeast_two_a,df_ap_southeast_two_b, \\\n",
    "        df_us_east_one_a,df_us_east_one_b,df_us_east_one_c,df_us_east_one_d,\\\n",
    "        df_ap_southeast_one_a, df_ap_southeast_one_b:\n",
    "    \n",
    "        df2 = df[df.InstanceType == inst_type]\n",
    "        dflist = df2[\"SpotPrice\"]\n",
    "        type_dict[i] = dflist\n",
    "        #type_dict.append(dflist)\n",
    "        i = i+1\n",
    "    return type_dict\n",
    "\n",
    "c3 = get_ts_data(\"c3.large\")\n",
    "c3_x = get_ts_data(\"c3.xlarge\")\n",
    "c3_2x = get_ts_data(\"c3.2xlarge\")\n",
    "c3_4x = get_ts_data(\"c3.4xlarge\")\n",
    "c3_8x = get_ts_data(\"c3.8xlarge\")\n",
    "\n",
    "print(type(c3))\n",
    "\n",
    "print(len(c3[0]))\n",
    "ts1 = c3[0]\n",
    "ts2 = c3[1]\n",
    "ts3 = c3_8x[2]\n",
    "ts1.plot()\n",
    "ts2.plot()\n",
    "ts3.plot()\n",
    "\n",
    "plt.ylim(-2,10)\n",
    "plt.legend(['ts1','ts2','ts3'])\n",
    "plt.show()"
   ]
  },
  {
   "cell_type": "code",
   "execution_count": 9,
   "metadata": {
    "collapsed": false
   },
   "outputs": [
    {
     "name": "stdout",
     "output_type": "stream",
     "text": [
      "12000\n"
     ]
    }
   ],
   "source": [
    "variations = []\n",
    "for d in c3,c3_x,c3_2x,c3_4x,c3_8x:\n",
    "    for i in range(10):\n",
    "        variations.append(d[i][:12000])\n",
    "print(len(variations[0]))\n",
    "\n",
    "#variations = []\n",
    "#prices = np.array([q.open for q in quotes]).astype(np.float)\n",
    "#print(len(variations[0]))\n",
    "prices = np.array(variations)"
   ]
  },
  {
   "cell_type": "code",
   "execution_count": 29,
   "metadata": {
    "collapsed": false
   },
   "outputs": [
    {
     "name": "stdout",
     "output_type": "stream",
     "text": [
      "0.0\n",
      "3.374437093734741 sec\n"
     ]
    }
   ],
   "source": [
    "# DTW\n",
    "import time\n",
    "from math import sqrt\n",
    "\n",
    "def DTWDistance(s1, s2):\n",
    "    DTW={}\n",
    "    \n",
    "    for i in range(len(s1)):\n",
    "        DTW[(i, -1)] = float('inf')\n",
    "    for i in range(len(s2)):\n",
    "        DTW[(-1, i)] = float('inf')\n",
    "    DTW[(-1, -1)] = 0\n",
    "\n",
    "    for i in range(len(s1)):\n",
    "        for j in range(len(s2)):\n",
    "            dist= (s1[i]-s2[j])**2\n",
    "            DTW[(i, j)] = dist + min(DTW[(i-1, j)],DTW[(i, j-1)], DTW[(i-1, j-1)])\n",
    "\t\t\n",
    "    return sqrt(DTW[len(s1)-1, len(s2)-1])\n",
    "\n",
    "\n",
    "def DTWDistance(s1, s2,w):\n",
    "    DTW={}\n",
    "    \n",
    "    w = max(w, abs(len(s1)-len(s2)))\n",
    "    \n",
    "    for i in range(-1,len(s1)):\n",
    "        for j in range(-1,len(s2)):\n",
    "            DTW[(i, j)] = float('inf')\n",
    "    DTW[(-1, -1)] = 0\n",
    "  \n",
    "    for i in range(len(s1)):\n",
    "        for j in range(max(0, i-w), min(len(s2), i+w)):\n",
    "            dist= (s1[i]-s2[j])**2\n",
    "            DTW[(i, j)] = dist + min(DTW[(i-1, j)],DTW[(i, j-1)], DTW[(i-1, j-1)])\n",
    "\t\t\n",
    "    return sqrt(DTW[len(s1)-1, len(s2)-1])\n",
    "\n",
    "def LB_Keogh(s1,s2,r):\n",
    "    LB_sum=0\n",
    "    for ind,i in enumerate(s1):\n",
    "        \n",
    "        lower_bound=min(s2[(ind-r if ind-r>=0 else 0):(ind+r)])\n",
    "        upper_bound=max(s2[(ind-r if ind-r>=0 else 0):(ind+r)])\n",
    "        \n",
    "        if i>upper_bound:\n",
    "            LB_sum=LB_sum+(i-upper_bound)**2\n",
    "        elif i<lower_bound:\n",
    "            LB_sum=LB_sum+(i-lower_bound)**2\n",
    "    \n",
    "    return sqrt(LB_sum)\n",
    "\n",
    "start_time = time.time()\n",
    "# your code\n",
    "#print(LB_Keogh(ts1, ts3, 20))\n",
    "print(LB_Keogh(ts1[:-1],ts2[:-1],5))\n",
    "print(time.time() - start_time , \"sec\")"
   ]
  },
  {
   "cell_type": "code",
   "execution_count": 11,
   "metadata": {
    "collapsed": true
   },
   "outputs": [],
   "source": [
    "# h clustering"
   ]
  },
  {
   "cell_type": "code",
   "execution_count": 33,
   "metadata": {
    "collapsed": true
   },
   "outputs": [],
   "source": [
    "# knn\n",
    "import numpy as np\n",
    "from sklearn.metrics import classification_report\n",
    "\n",
    "def knn(train,test,w):\n",
    "    preds=[]\n",
    "    for ind,i in enumerate(test):\n",
    "        min_dist=float('inf')\n",
    "        closest_seq=[]\n",
    "        #print ind\n",
    "        print(i)\n",
    "        for j in train:\n",
    "            print(i[:-1])\n",
    "            \n",
    "            print(LB_Keogh(i[:-1],j[:-1],5))\n",
    "            if LB_Keogh(i[:-1],j[:-1],5)<min_dist:\n",
    "                dist=DTWDistance(i[:-1],j[:-1],w)\n",
    "                if dist<min_dist:\n",
    "                    min_dist=dist\n",
    "                    closest_seq=j\n",
    "        preds.append(closest_seq[-1])\n",
    "    return classification_report(test[:,-1],preds)"
   ]
  },
  {
   "cell_type": "code",
   "execution_count": 36,
   "metadata": {
    "collapsed": false
   },
   "outputs": [
    {
     "name": "stdout",
     "output_type": "stream",
     "text": [
      "[[-0.37693558  1.2248643   0.34387438 ..., -1.3117417  -1.1971462   1.        ]\n",
      " [ 0.64440621  0.41326914 -0.86227849 ...,  0.08574208  0.02499741  1.        ]\n",
      " [-0.97866735 -0.40623244  0.82242857 ...,  0.10699555  0.08271546  1.        ]\n",
      " ..., \n",
      " [ 0.96590061  0.64016083  0.48085702 ..., -1.195676   -0.80364439  6.        ]\n",
      " [ 0.35497067  0.10965181  0.23889694 ..., -1.7653707  -1.6753831   6.        ]\n",
      " [ 0.64661651  0.61351555  1.1266638  ..., -0.83334659 -0.26117832  6.        ]]\n",
      "300\n",
      "[-0.37693558  1.2248643   0.34387438  0.32845403 -0.33760945  1.026514\n",
      " -1.330996   -0.65780029  1.4460774  -0.84639658  0.77620813 -0.25405199\n",
      "  1.6652325   0.62547205  1.242258    0.77620813  1.1273524  -1.0133987\n",
      " -0.69236218 -1.0568689  -1.2245759  -0.23913907  0.17317923 -0.17277798\n",
      "  0.8206086  -1.4316089  -0.33873708 -1.6279013  -1.127064    1.3599545\n",
      " -1.4346253  -0.98306547  1.5605883  -0.47444748 -0.27310895 -0.55250774\n",
      " -1.1066538   0.90207995  0.24213387 -0.86658118  1.5268439  -1.0946446\n",
      " -0.31626903  0.531484    0.26429182  1.1662557  -0.57683638 -0.33211225\n",
      "  1.5163852  -0.10466906  0.370712   -1.568165    1.0218626  -1.4297483\n",
      "  1.3569663   1.3727813   0.66355779  0.91834602 -1.3117417  -1.1971462   1.        ]\n",
      "61\n"
     ]
    }
   ],
   "source": [
    "train = np.genfromtxt('datasets/train.csv', delimiter='\\t')\n",
    "test = np.genfromtxt('datasets/test.csv', delimiter='\\t')\n",
    "\n",
    "print(train)\n",
    "print(len(train))\n",
    "print(train[0])\n",
    "print(len(train[0]))\n",
    "\n"
   ]
  },
  {
   "cell_type": "code",
   "execution_count": 34,
   "metadata": {
    "collapsed": false
   },
   "outputs": [
    {
     "name": "stdout",
     "output_type": "stream",
     "text": [
      "[[ 0.1891  0.1891  0.1711 ...,  0.0355  0.0344  0.0336]\n",
      " [ 0.1891  0.1891  0.1711 ...,  0.0355  0.0344  0.0336]\n",
      " [ 0.1891  0.1891  0.1711 ...,  0.0355  0.0344  0.0336]\n",
      " ..., \n",
      " [ 0.7561  0.7561  0.6831 ...,  0.6831  0.1311  0.1303]\n",
      " [ 0.7561  0.7561  0.6831 ...,  0.6831  0.1311  0.1303]\n",
      " [ 0.7561  0.7561  0.6831 ...,  0.6831  0.1311  0.1303]]\n",
      "25\n",
      "[ 0.1891  0.1891  0.1711 ...,  0.0355  0.0344  0.0336]\n",
      "12000\n"
     ]
    }
   ],
   "source": [
    "train = prices[:25]\n",
    "test = prices[:-25]\n",
    "len(train)\n",
    "train.tofile(\"train.csv\")\n",
    "test.tofile(\"test.csv\")\n",
    "print(train)\n",
    "print(len(train))\n",
    "print(train[0])\n",
    "print(len(train[0]))"
   ]
  },
  {
   "cell_type": "code",
   "execution_count": 35,
   "metadata": {
    "collapsed": false
   },
   "outputs": [
    {
     "name": "stdout",
     "output_type": "stream",
     "text": [
      "0.1891\n"
     ]
    },
    {
     "ename": "IndexError",
     "evalue": "invalid index to scalar variable.",
     "output_type": "error",
     "traceback": [
      "\u001b[0;31m---------------------------------------------------------------------------\u001b[0m",
      "\u001b[0;31mIndexError\u001b[0m                                Traceback (most recent call last)",
      "\u001b[0;32m<ipython-input-35-464302ba703a>\u001b[0m in \u001b[0;36m<module>\u001b[0;34m()\u001b[0m\n\u001b[1;32m      7\u001b[0m \u001b[0mtest2\u001b[0m \u001b[0;34m=\u001b[0m \u001b[0mnp\u001b[0m\u001b[0;34m.\u001b[0m\u001b[0marray\u001b[0m\u001b[0;34m(\u001b[0m\u001b[0mtest\u001b[0m\u001b[0;34m)\u001b[0m\u001b[0;34m\u001b[0m\u001b[0m\n\u001b[1;32m      8\u001b[0m \u001b[0;31m# your code\u001b[0m\u001b[0;34m\u001b[0m\u001b[0;34m\u001b[0m\u001b[0m\n\u001b[0;32m----> 9\u001b[0;31m \u001b[0mprint\u001b[0m \u001b[0;34m(\u001b[0m\u001b[0mknn\u001b[0m\u001b[0;34m(\u001b[0m\u001b[0mtrain\u001b[0m\u001b[0;34m,\u001b[0m \u001b[0mtest\u001b[0m\u001b[0;34m,\u001b[0m \u001b[0;36m4\u001b[0m\u001b[0;34m)\u001b[0m\u001b[0;34m)\u001b[0m\u001b[0;34m\u001b[0m\u001b[0m\n\u001b[0m\u001b[1;32m     10\u001b[0m \u001b[0;34m\u001b[0m\u001b[0m\n\u001b[1;32m     11\u001b[0m \u001b[0mprint\u001b[0m\u001b[0;34m(\u001b[0m\u001b[0mtime\u001b[0m\u001b[0;34m.\u001b[0m\u001b[0mtime\u001b[0m\u001b[0;34m(\u001b[0m\u001b[0;34m)\u001b[0m \u001b[0;34m-\u001b[0m \u001b[0mstart_time\u001b[0m \u001b[0;34m,\u001b[0m \u001b[0;34m\"sec\"\u001b[0m\u001b[0;34m)\u001b[0m\u001b[0;34m\u001b[0m\u001b[0m\n",
      "\u001b[0;32m<ipython-input-33-f5042174ef49>\u001b[0m in \u001b[0;36mknn\u001b[0;34m(train, test, w)\u001b[0m\n\u001b[1;32m     11\u001b[0m         \u001b[0mprint\u001b[0m\u001b[0;34m(\u001b[0m\u001b[0mi\u001b[0m\u001b[0;34m)\u001b[0m\u001b[0;34m\u001b[0m\u001b[0m\n\u001b[1;32m     12\u001b[0m         \u001b[0;32mfor\u001b[0m \u001b[0mj\u001b[0m \u001b[0;32min\u001b[0m \u001b[0mtrain\u001b[0m\u001b[0;34m:\u001b[0m\u001b[0;34m\u001b[0m\u001b[0m\n\u001b[0;32m---> 13\u001b[0;31m             \u001b[0mprint\u001b[0m\u001b[0;34m(\u001b[0m\u001b[0mi\u001b[0m\u001b[0;34m[\u001b[0m\u001b[0;34m:\u001b[0m\u001b[0;34m-\u001b[0m\u001b[0;36m1\u001b[0m\u001b[0;34m]\u001b[0m\u001b[0;34m)\u001b[0m\u001b[0;34m\u001b[0m\u001b[0m\n\u001b[0m\u001b[1;32m     14\u001b[0m \u001b[0;34m\u001b[0m\u001b[0m\n\u001b[1;32m     15\u001b[0m             \u001b[0mprint\u001b[0m\u001b[0;34m(\u001b[0m\u001b[0mLB_Keogh\u001b[0m\u001b[0;34m(\u001b[0m\u001b[0mi\u001b[0m\u001b[0;34m[\u001b[0m\u001b[0;34m:\u001b[0m\u001b[0;34m-\u001b[0m\u001b[0;36m1\u001b[0m\u001b[0;34m]\u001b[0m\u001b[0;34m,\u001b[0m\u001b[0mj\u001b[0m\u001b[0;34m[\u001b[0m\u001b[0;34m:\u001b[0m\u001b[0;34m-\u001b[0m\u001b[0;36m1\u001b[0m\u001b[0;34m]\u001b[0m\u001b[0;34m,\u001b[0m\u001b[0;36m5\u001b[0m\u001b[0;34m)\u001b[0m\u001b[0;34m)\u001b[0m\u001b[0;34m\u001b[0m\u001b[0m\n",
      "\u001b[0;31mIndexError\u001b[0m: invalid index to scalar variable."
     ]
    }
   ],
   "source": [
    "start_time = time.time()\n",
    "#train = np.genfromtxt('train.csv', delimiter='\\t')\n",
    "#test = np.genfromtxt('test.csv', delimiter='\\t')\n",
    "train = np.fromfile(\"train.csv\")\n",
    "test = np.fromfile(\"test.csv\")\n",
    "train2 = np.array(train)\n",
    "test2 = np.array(test)\n",
    "# your code\n",
    "print (knn(train, test, 4))\n",
    "\n",
    "print(time.time() - start_time , \"sec\")"
   ]
  },
  {
   "cell_type": "code",
   "execution_count": null,
   "metadata": {
    "collapsed": true
   },
   "outputs": [],
   "source": []
  },
  {
   "cell_type": "code",
   "execution_count": null,
   "metadata": {
    "collapsed": false,
    "scrolled": false
   },
   "outputs": [],
   "source": [
    "\"\"\"\n",
    "for key in typedfs:\n",
    "    typedfs[key].index = typedfs[key].TimeStamp\n",
    "    typedfs[key]       = typedfs[key].drop(['TimeStamp'],axis=1)\n",
    "    #Normalize data\n",
    "        #typedfs[key] = typedfs[key].apply(lambda row: np.log(row).diff(), axis=0 )\n",
    "    typedfs[key] = typedfs[key].diff(axis=0)\n",
    "    corrGraph(key, typedfs[key])\n",
    "    \n",
    "for key in zonedfs:\n",
    "    zonedfs[key].index = zonedfs[key].TimeStamp\n",
    "    zonedfs[key]       = zonedfs[key].drop(['TimeStamp'],axis=1)\n",
    "    #Normalize data\n",
    "        #zonedfs[key] = zonedfs[key].apply(lambda row: np.log(row).diff(), axis=0 )\n",
    "    zonedfs[key] = zonedfs[key].diff(axis=0)\n",
    "    corrGraph(key, zonedfs[key])\n",
    "\"\"\""
   ]
  },
  {
   "cell_type": "code",
   "execution_count": null,
   "metadata": {
    "collapsed": false
   },
   "outputs": [],
   "source": [
    "#  The reason for some grey rows, \n",
    "#  is because those values are all zero meaning\n",
    "#  the price did not change ever for that time series.\n",
    "\n",
    "#print(typedfs['c3.large']['sa-east-1b'].head(20))"
   ]
  },
  {
   "cell_type": "markdown",
   "metadata": {},
   "source": [
    "### Reference:\n",
    "\n",
    "[pattern matching over time series data](http://stats.stackexchange.com/questions/136091/sequential-pattern-matching-in-time-series-data)"
   ]
  }
 ],
 "metadata": {
  "anaconda-cloud": {},
  "kernelspec": {
   "display_name": "Python 3",
   "language": "python",
   "name": "python3"
  },
  "language_info": {
   "codemirror_mode": {
    "name": "ipython",
    "version": 3
   },
   "file_extension": ".py",
   "mimetype": "text/x-python",
   "name": "python",
   "nbconvert_exporter": "python",
   "pygments_lexer": "ipython3",
   "version": "3.5.2"
  }
 },
 "nbformat": 4,
 "nbformat_minor": 0
}
